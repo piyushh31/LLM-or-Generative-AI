{
 "cells": [
  {
   "cell_type": "markdown",
   "id": "a5f44d18",
   "metadata": {},
   "source": [
    "# In this project we will combine voice2text with LLM, such that we can extract insights from a text just by asking questions through voice."
   ]
  },
  {
   "cell_type": "code",
   "execution_count": 5,
   "id": "24b67e85",
   "metadata": {},
   "outputs": [],
   "source": [
    "#firsly importing a sample text from website, extraction done through beatifulsoap"
   ]
  },
  {
   "cell_type": "code",
   "execution_count": 2,
   "id": "f07e229c",
   "metadata": {},
   "outputs": [],
   "source": [
    "import requests\n",
    "from bs4 import BeautifulSoup\n",
    "\n",
    "# Wikipedia URL\n",
    "url = \"https://en.wikipedia.org/wiki/Uttarakhand\"\n",
    "\n",
    "# Send a GET request to the URL\n",
    "response = requests.get(url)\n",
    "\n",
    "# Parse the HTML content\n",
    "soup = BeautifulSoup(response.content, \"html.parser\")\n",
    "\n",
    "# Find all paragraphs\n",
    "paragraphs = soup.find_all(\"p\")\n",
    "\n",
    "# Extract text from paragraphs\n",
    "text_data = [p.get_text() for p in paragraphs]"
   ]
  },
  {
   "cell_type": "code",
   "execution_count": 3,
   "id": "ae03ab90",
   "metadata": {},
   "outputs": [
    {
     "data": {
      "text/plain": [
       "['\\n',\n",
       " \"Uttarakhand (English: /ˈʊtərɑːkʌnd/,[19] /ˌʊtərəˈkʌnd/[20] or /ˌʊtəˈrækənd/;[21] Hindi: [ˈʊtːərɑːkʰəɳɖ], lit.\\u2009'Northern Land'), formerly known as Uttaranchal (English: /ˌʊtəˈræntʃʌl/; the official name until 2007),[22] is a state in northern India. The state is divided into two divisions, Garhwal and Kumaon, with a total of 13 districts. The winter capital and largest city of the state is Dehradun, which is also a railhead. On 5 March 2020, Bhararisain, a town in the Gairsain Tehsil of the Chamoli district, was declared as  the summer capital of Uttarakhand.[23][24] The High Court of the state is located in Nainital, but is to be moved to Haldwani in future.[25]\\n\",\n",
       " 'Uttarakhand borders the Tibet Autonomous Region of China to the north; the Sudurpashchim Province of Nepal to the east; the Indian states of Uttar Pradesh to the south and Himachal Pradesh to the west and north-west. It is often referred to as the \"Devbhumi\" (lit.\\u2009\\'Land of the Gods\\')[26] due to its religious significance and numerous Hindu temples and pilgrimage centres found throughout the state. Uttarakhand is known for the natural environment of the Himalayas, the Bhabar and the Terai regions.\\n',\n",
       " 'In 1816, most of modern Uttarakhand was ceded to the British as part of the Treaty of Sugauli. Although the erstwhile hill kingdoms of Garhwal and Kumaon were traditional rivals, the proximity of different neighbouring ethnic groups and the inseparable and complementary nature of their geography, economy, culture, language, and traditions created strong bonds between the two regions, which further strengthened during the Uttarakhand movement for statehood in the 1990s.\\n',\n",
       " 'The natives of the state are generally called Uttarakhandi, or more specifically either Garhwali or Kumaoni depending on their region of origin. According to the 2011 Census of India, Uttarakhand has a population of 10,086,292, making it the 20th most populous state in India.[27]\\n',\n",
       " 'Uttarakhand\\'s name is derived from the Sanskrit words uttara (उत्तर) meaning \\'north\\', and khaṇḍa (खण्ड) meaning \\'section\\' or \\'part\\', altogether simply meaning \\'Northern Part\\'. The name finds mention in early Hindu scriptures as the combined region of \"Kedarkhand\" (present day Garhwal) and \"Manaskhand\" (present day Kumaon). Uttarakhand was also the ancient Puranic term for the central stretch of the Indian Himalayas.[28]\\n',\n",
       " 'However, the region was given the name Uttaranchal by the Bharatiya Janata Party-led union government and Uttarakhand state government when they started a new round of state reorganisation in 1998. Chosen as per BJP claims for its allegedly less-separatist connotations, since the proposed state name Uttarakhand had been used exclusively in all major statehood protests. The name change generated widespread controversy among many activists and citizens who saw it as a political act meant to hijack credit from the activist party Uttarakhand Kranti Dal.[29] The name Uttarakhand remained popular in the region, while Uttaranchal was promulgated only through official usage.[citation needed]\\n',\n",
       " 'In August 2006, Union Council of Ministers assented to the demands of the Uttaranchal Legislative Assembly and leading members of the Uttarakhand statehood movement to rename Uttaranchal state as Uttarakhand. Legislation to that effect was passed by the Uttaranchal Legislative Assembly in October 2006,[30] and the Union Council of Ministers brought in the bill in the winter session of Parliament. The bill was passed by the Parliament and signed into law by then President A. P. J. Abdul Kalam in December 2006, and since 1 January 2007 the state has been known as Uttarakhand.[31]\\n',\n",
       " 'Archaeological evidence supports the existence of humans in the region since prehistoric times. [32]Though initially, it was believed that due to harsh climate and mountainous terrain, this was a barren and uninhabited land. But after various excavations and the study of ancient literature, it is now established that the history of Uttarakhand goes back to Stone Age.[33] Evidences of Stone Age settlements have been found in various parts of Kumaon and Garhwal, particularly notable are the rock shelters at Lakhudyar, Almora.[34]\\n',\n",
       " 'The region formed a part of the Uttarakuru Kingdom during the Vedic age of Ancient India. Among the first major dynasties of Kumaon were the Kunindas in the second century BCE who practised an early form of Shaivism. Ashokan edicts at Kalsi show the early presence of Buddhism in this region.\\n',\n",
       " 'Ancient rock paintings, rock shelters, paleolithic age stone tools (hundreds of thousands of years old), and megaliths provide evidence that the mountains of the region have been inhabited since prehistoric times. There are also archaeological remains that show the existence of early Vedic (c.\\u20091500 BCE) practices in the area.[35] The Pauravas, Khasas, Kiratas, Nandas, Mauryas, Kushanas, Kunindas, Guptas, Karkotas, Palas, Gurjara-Pratiharas, Katyuris, Raikas, Chands, Parmars or Panwars, Mallas, Shahs and the British have ruled Uttarakhand in turns.[28]\\n',\n",
       " 'Among the first major dynasties of Garhwal and Kumaon were the Kunindas in the second century BCE who practised an early form of Shaivism and traded salt with Western Tibet. It is evident from the Ashokan edict at Kalsi in Western Garhwal that Buddhism made inroads in this region. Shamanic Hindu practices deviating from Hindu orthodoxy also persisted here. However, Garhwal and Kumaon were restored to nominal Vedic Hindu rule due to the travels of Shankaracharya and the arrival of migrants from the plains.[citation needed]\\n',\n",
       " 'Between the 4th and 14th centuries, the Katyuri dynasty dominated lands of varying extents from the Katyur valley (modern-day Baijnath) in Kumaon. The historically significant temples at Jageshwar are believed to have been built by the Katyuris and later remodeled by the Chands. Other peoples of the Tibeto-Burman group known as Kirata are thought to have settled in the northern highlands as well as in pockets throughout the region, and are believed to be ancestors of the modern day Bhotiya, Raji, Jad, and Banrawat people.[36]\\n',\n",
       " \"During the medieval period, the region was consolidated under the Katyuri rulers of Kumaon also known as 'Kurmanchal Kingdom'.[37] After the fall of Katyuris, the region was divided into the Kumaon Kingdom and the Garhwal Kingdom.\\n\",\n",
       " 'By the medieval period, the region was consolidated under the Garhwal Kingdom in the west and the Kumaon Kingdom in the east. During this period, learning and new forms of painting (the Pahari school of art) developed.[38] Modern-day Garhwal was likewise unified under the rule of Parmars who, along with many Brahmins and Rajputs, also arrived from the plains.[39] In 1791, the expanding Gorkha Empire of Nepal overran Almora, the seat of the Kumaon Kingdom. It was annexed to the Kingdom of Nepal by Amar Singh Thapa. In 1803, the Garhwal Kingdom also fell to the Gurkhas. After the Anglo-Nepalese War, this region was ceded to the British as part of the Treaty of Sugauli and the erstwhile Kumaon Kingdom along with the eastern region of Garhwal Kingdom was merged with the Ceded and Conquered Provinces. \\n',\n",
       " 'In 1816, the Garhwal Kingdom was re-established from a smaller region in Tehri as a princely state. In the southern part of Uttarakhand in Haridwar district (earlier part of Saharanpur till 1988), the dominance and kingship (rajya) was exercises by Gujar chiefs, the area was under control of Parmar (Panwar or Khubars) Gujars in eastern Saharanpur including Haridwar in kingship of Raja Sabha Chandra of Jabarhera (Jhabrera). Gujars of the Khubar (Panwar) gotra held more than 500 villages there in upper Doab, and that situation was confirmed in 1759 in a grant by a Rohilla governor of 505 villages and 31 hamlets to one Manohar Singh Gujar (written in some records as Raja Nahar Singh son of Sabha Chandra). In 1792 Ram Dayal and his son Sawai Singh were ruling the area but due to some family reasons Ramdayal left Jhabrera and went to Landhaura village, now some villages were under the control of Raja Ramdayal Singh at Landhaura, and some under his son Sawai Singh at Jhabrera. Hence, there were two branches of Jabarhera estate (riyasat) main branch at Jabarhera and the second one at Landhaura, both father and son were ruling simultaneously without any conflicts till the death of Raja Sawai Singh of Jabarhera in 1803. After the death of Sawai Singh total control of powers transferred to Ram Dayal Singh at Landhaura, but some villages were given to descendants of Sawai Singh and her widow to collect revenue. \\n',\n",
       " 'By 1803 the Landhaura villages numbered 794 under Raja Ram Dayal Singh. Raja Ram Dayal Singh died on 29 March 1813.[40] These holdings, at least those in the original grant made by the Rohilla governor, were initially recognised by the British in land settlements concluded with Ram Dayal and his heirs. As the years passed, more and more settlements appear to have been made with the village communities, however, and by 1850 little remained of the once vast estate of the Landhaura Khübars.[41]\\n',\n",
       " 'After India attained independence from the British, the Garhwal Kingdom was merged into the state of Uttar Pradesh, where Uttarakhand composed the Garhwal and Kumaon Divisions.[42] Until 1998, Uttarakhand was the name most commonly used to refer to the region, as various political groups, including the Uttarakhand Kranti Dal (Uttarakhand Revolutionary Party), began agitating for separate statehood under its banner. Although the erstwhile hill kingdoms of Garhwal and Kumaon were traditional rivals the inseparable and complementary nature of their geography, economy, culture, language, and traditions created strong bonds between the two regions.[43] These bonds formed the basis of the new political identity of Uttarakhand, which gained significant momentum in 1994, when demand for separate statehood achieved almost unanimous acceptance among both the local populace and national political parties.[44]\\n',\n",
       " 'The most notable incident during this period was the Rampur Tiraha firing case on the night of 1 October 1994, which led to a public uproar.[45] On 24 September 1998, the Uttar Pradesh Legislative Assembly and Uttar Pradesh Legislative Council passed the Uttar Pradesh Reorganisation Bill, which began the process of forming a new state.[46] Two years later the Parliament of India passed the Uttar Pradesh Reorganisation Act, 2000 and thus, on 9 November 2000, Uttarakhand became the 27th state of the Republic of India.[47]\\n',\n",
       " 'Uttarakhand is also well known for the mass agitation of the 1970s that led to the formation of the Chipko environmental movement[48] and other social movements. Though primarily a livelihood movement rather than a forest conservation movement, it went on to become a rallying point for many future environmentalists, environmental protests, and movements the world over and created a precedent for non-violent protest.[49] It stirred up the existing civil society in India, which began to address the issues of tribal and marginalised people. So much so that, a quarter of a century later, India Today mentioned the people behind the \"forest satyagraha\" of the Chipko movement as among \"100 people who shaped India\".[50] One of Chipko\\'s most salient features was the mass participation of female villagers.[51] It was largely female activists that played pivotal role in the movement. Gaura Devi was the leading activist who started this movement, other participants were Chandi Prasad Bhatt, Sunderlal Bahuguna, and Ghanshyam Raturi, the popular Chipko poet.[52]\\n',\n",
       " 'Uttarakhand has a total area of 53,566\\xa0km2 (20,682\\xa0sq\\xa0mi),[53] of which 86% is mountainous and 65% is covered by forest.[53] Most of the northern part of the state is covered by high Himalayan peaks and glaciers. In the first half of the nineteenth century, the expanding development of Indian roads, railways, and other physical infrastructure was giving rise to concerns over indiscriminate logging, particularly in the Himalaya. Two of the most important rivers in Hinduism originate in the glaciers of Uttarakhand, the Ganges at Gangotri and the Yamuna at Yamunotri. They are fed by myriad lakes, glacial melts, and streams.[54] These two along with Badrinath and Kedarnath form the Chota Char Dham, a holy pilgrimage for the Hindus.[55][56][57][58]\\n',\n",
       " \"The state hosts the Bengal tiger in Jim Corbett National Park, the oldest national park of the Indian subcontinent. The Nanda Devi and Valley of Flowers National Parks, a UNESCO World Heritage Site located in the upper expanses of Bhyundar Ganga near Joshimath in Gharwal region, is known for the variety and rarity of its flowers and plants.[59] One who raised this was Sir Joseph Dalton Hooker, Director of the Royal Botanic Gardens, Kew, who visited the region. As a consequence, Lord Dalhousie issued the Indian Forest Charter in 1855, reversing the previous laissez-faire policy. The following Indian Forest Act of 1878 put Indian forestry on a solid scientific basis. A direct consequence was the founding of the Imperial Forest School at Dehradun by Dietrich Brandis in 1878. Renamed the 'Imperial Forest Research Institute' in 1906, it is now known as the Forest Research Institute.[citation needed]\\n\",\n",
       " 'The model \"Forest Circles\" around Dehradun, used for training, demonstration and scientific measurements, had a lasting positive influence on the forests and ecology of the region. The Himalayan ecosystem provides habitat for many animals (including bharal, snow leopards, leopards and tigers), plants, and rare herbs.[citation needed]\\n',\n",
       " 'Uttarakhand lies on the southern slope of the Himalaya range, and the climate and vegetation vary greatly with elevation, from glaciers at the highest elevations to subtropical forests at the lower elevations. The highest elevations are covered by ice and bare rock. Below them, between 3,000 and 5,000 metres (9,800 and 16,400\\xa0ft) are the western Himalayan alpine shrub and meadows. The temperate western Himalayan subalpine conifer forests grow just below the tree line. At 3,000 to 2,600 metres (9,800 to 8,500\\xa0ft) elevation they transition to the temperate western Himalayan broadleaf forests, which lie in a belt from 2,600 to 1,500 metres (8,500 to 4,900\\xa0ft) elevation. Below 1,500 metres (4,900\\xa0ft) elevation lie the Himalayan subtropical pine forests. The Upper Gangetic Plains moist deciduous forests and the drier Terai-Duar savanna and grasslands cover the lowlands along the Uttar Pradesh border in a belt locally known as Bhabar. These lowland forests have mostly been cleared for agriculture, but a few pockets remain.[60]\\n',\n",
       " 'In June 2013 several days of extremely heavy rain caused devastating floods in the region, resulting in more than 5000 people missing and presumed dead. The flooding was referred to in the Indian media as a \"Himalayan Tsunami\".[citation needed]\\n',\n",
       " 'On 7 February 2021, floods emerged from the Nanda Devi mountain glaciers, devastating locations along the Rishi Ganga, Dhauli Ganga and Alaknanda Rivers, resulting in many people reported missing or killed, yet to be numbered. The damages include Rini village, several river dams and the Tapovan Vishnugad Hydropower Plant.[citation needed]\\n',\n",
       " 'Uttarakhand has a diversity of flora and fauna. It has a recorded forest area of 34,666\\xa0km2 (13,385\\xa0sq\\xa0mi), which constitutes 65% of the total area of the state.[61] Uttarakhand is home to rare species of plants and animals, many of which are protected by sanctuaries and reserves. National parks in Uttarakhand include the Jim Corbett National Park (the oldest national park of India) in Nainital and Pauri Garhwal District, and Valley of Flowers National Park & Nanda Devi National Park in Chamoli District, which together are a UNESCO World Heritage Site. A number of plant species in the valley are internationally threatened, including several that have not been recorded from elsewhere in Uttarakhand.[62] Rajaji National Park in Haridwar, Dehradun and Pauri Garhwal District and Govind Pashu Vihar National Park & Gangotri National Park in Uttarkashi District are some other protected areas in the state.[63]\\n',\n",
       " 'Leopards are found in areas that are abundant in hills but may also venture into the lowland jungles. Smaller felines include the jungle cat, fishing cat, and leopard cat. Other mammals include four kinds of deer (barking, sambar, hog and chital), sloth, Brown and Himalayan black bears, Indian grey mongooses, otters, yellow-throated martens, bharal, Indian pangolins, and langur and rhesus monkeys. In the summer, elephants can be seen in herds of several hundred. Marsh crocodiles (Crocodylus palustris), gharials (Gavialis gangeticus) and other reptiles are also found in the region. Local crocodiles were saved from extinction by captive breeding programs and subsequently re-released into the Ramganga river.[64] Several freshwater terrapins and turtles like the Indian sawback turtle (Kachuga tecta), brahminy river turtle (Hardella thurjii), and Ganges softshell turtle (Trionyx gangeticus) are found in the rivers. Butterflies and birds of the region include red helen (Papilio helenus), the great eggfly (Hypolimnos bolina), common tiger (Danaus genutia), pale wanderer (Pareronia avatar), jungle babbler, tawny-bellied babbler, great slaty woodpecker, red-breasted parakeet, orange-breasted green pigeon and chestnut-winged cuckoo.[65] In 2011, a rare migratory bird, the bean goose, was also seen in the Jim Corbett National Park. A critically endangered bird, last seen in 1876 is the Himalayan quail endemic to the western Himalayas of the state.[66]\\n',\n",
       " \"Evergreen oaks, rhododendrons, and conifers predominate in the hills. Prunus cerasoides (pahiyya), sal (Shorea robusta), silk cotton tree (Bombax ciliata), Dalbergia sissoo, Mallotus philippensis, Acacia catechu, Bauhinia racemosa, and Bauhinia variegata (camel's foot tree) are some other trees of the region. Albizia chinensis, the sweet sticky flowers of which are favoured by sloth bears, are also part of the region's flora.[65]\\n\",\n",
       " 'A decade long study by Prof. Chandra Prakash Kala concluded that the Valley of Flowers is endowed with 520 species of higher plants (angiosperms, gymnosperms and pteridophytes), of these 498 are flowering plants. The park has many species of medicinal plants including Dactylorhiza hatagirea, Picrorhiza kurroa, Aconitum violaceum, Polygonatum multiflorum, Fritillaria roylei, and Podophyllum hexandrum.[67][68]\\n',\n",
       " 'In the summer season of 2016, a large portion of forests in Uttarakhand caught fires and rubbled to ashes during Uttarakhand forest fires incident, which resulted in the damage of forest resources worth billions of rupees and death of 7 people with hundreds of wild animals died during fires. During the 2021 Uttarakhand forest fires, there was widespread damage to the forested areas in Tehri district.[69]\\n',\n",
       " 'A number of native plants are deemed to be of medicinal value.[70] The government-run Herbal Research and Development Institute carries out research and helps conserve medicinal herbs that are found in abundance in the region. Local traditional healers still use herbs, in accordance with classical Ayurvedic texts, for diseases that are usually cured by modern medicine.[71]\\n',\n",
       " 'The native people of Uttarakhand are generally called Uttarakhandi and sometimes specifically either Garhwali or Kumaoni depending on their place of origin in either the Garhwal or Kumaon region. According to the 2011 Census of India, Uttarakhand has a population of 10,086,292 comprising 5,137,773 males and 4,948,519 females, with 69.77% of the population living in rural areas. The state is the 20th most populous state of the country having 0.83% of the population on 1.63% of the land. The population density of the state is 189 people per square kilometre having a 2001–2011 decadal growth rate of 18.81%. The gender ratio is 963 females per 1000 males.[27][73][74] The crude birth rate in the state is 18.6 with the total fertility rate being 2.3. The state has an infant mortality rate of 43, a maternal mortality rate of 188 and a crude death rate of 6.6.[75]\\n',\n",
       " 'Uttarakhand has a multiethnic population spread across two geocultural regions: Garhwal, and Kumaon. A large portion (about 35%) of the population is Kshatriya (various clans of erstwhile landowning rulers and their descendants), including members of the native Garhwalis, and Kumaonis as well as a number of migrants.[76][77] According to a 2007 study by Centre for the Study of Developing Societies, Uttarakhand has the highest percentage of Brahmins of any state in India, with approximately 20% of the population.[78] Uttarakhand is among the few Indian states where the historic Upper Caste forms a major share of the population.[78]\\n',\n",
       " 'Of the rest 18.3% of the population is classified as Other Backward Classes (OBCs).[79] 18.76% of the population belongs to the Scheduled Castes (an official term for the lower castes in the traditional caste system in India).[74] Scheduled Tribes such as the Jaunsaris, Bhotiyas, Tharus, Buksas, Rajis, Jads and Banrawats constitute 2.89% of the population.[74] Several non-scheduled tribal groups such as Shaukas and Gurjars are also found here. Gurjars and Bhotiyas are nomadic tribes while Jaunsaris are completely settled tribe.[80]\\n',\n",
       " 'Languages in Uttarakhand (2011 census)[81]\\n',\n",
       " 'The official language of Uttarakhand is Hindi,[3] which according to the 2011 census is spoken natively by 43% of the population (primarily concentrated in the south),[81] and also used throughout the state as a lingua franca. \\n',\n",
       " \"The major regional languages of Uttarakhand are Garhwali, which according to the 2011 census is spoken by 23% of the population, mostly in the western half of the state, Kumaoni, spoken in the eastern half and native to 20%, and Jaunsari, whose speakers are concentrated in Dehradun district in the southwest and make up 1.3% of the state's population. These three languages are closely related, with Garhwali and Kumaoni in particular making up the Central Pahari language subgroup. The languages have been part of various scattered conservation efforts due to their active decline beginning in the later quarter of the 20th century. The decline is hypothesized to be the result of heavy state-sponsered promotion of Hindi as the official language.[82]\\n\",\n",
       " 'All the languages enumerated so far belong to the Indo-Aryan family. Apart from a few other minority Indo-Aryan languages, like Buksa Tharu and Rana Tharu (of Udham Singh Nagar district in the south-east), Mahasu Pahari (found in Uttarkashi in the north-west), and Doteli,[83] Uttarakhand is also home to a number of indigenous Sino-Tibetan languages, most of which are spoken in the north of the state. These include Jad (spoken in Uttarkashi district in the north-west), Rongpo (of Chamoli district), and several languages of Pithoragarh district in the north-east: Byangsi, Chaudangsi, Darmiya, Raji and Rawat.[84] Another indigenous Sino-Tibetan language, Rangas, became extinct by the middle of the 20th century. Additionally, two non-indigenous Sino-Tibetan languages are also represented: Kulung (otherwise native to Nepal) and Tibetan.[83]\\n',\n",
       " 'The Indian classical language Sanskrit has been declared a second official language,[85][86] by the BJP government for its allegedly historic association with the region. At present the language has no native speakers and its use is constrained to educational and religious settings.[citation needed]\\n',\n",
       " \"There are also sizeable populations of speakers of some of India's other major languages: Urdu (4.2%) and Punjabi (2.6%), both mostly found in the southern districts, Bengali (1.5%) and Bhojpuri (0.95%), both mainly present in Udham Singh Nagar district in the south-east, and Nepali (1.1%, found throughout the state, but most notably in Dehradun and Uttarkashi).[81]\\n\",\n",
       " 'Religion in Uttarakhand (2011)[87]\\n',\n",
       " \"More than four-fifths of Uttarakhand's residents are Hindus.[35] Muslims, Sikhs, Christians, Buddhists, and Jains make up the remaining population, with the Muslims being the largest minority.[35] Hill regions are almost entirely Hindu, while the plains regions have a significant minority of Muslims and Sikhs.[74]\\n\",\n",
       " 'Following the Constitution of India, Uttarakhand, like all Indian states, has a parliamentary system of representative democracy for its government.\\n',\n",
       " 'The Governor is the constitutional and formal head of the government and is appointed for a five-year term by the President of India on the advice of the Union government. The present Governor of Uttarakhand is Gurmit Singh.[88] The Chief Minister, who holds the real executive powers, is the head of the party or coalition garnering the majority in the state elections. The current Chief Minister of Uttarakhand is Pushkar Singh Dhami.[89]\\n',\n",
       " \"The unicameral Uttarakhand Legislative Assembly consists of 70 members, known as Members of the Legislative Assembly or MLAs,[90] and special office bearers such as the Speaker and Deputy Speaker, elected by the members. Assembly meetings are presided over by the Speaker, or the Deputy Speaker in the Speaker's absence. The Uttarakhand Council of Ministers is appointed by the Governor of Uttarakhand on the advice of the Chief Minister of Uttarakhand and reports to the Legislative Assembly. Leader of the Opposition leads the Official Opposition in the Legislative Assembly. Auxiliary authorities that govern at a local level are known as gram panchayats in rural areas, municipalities in urban areas and municipal corporations in metro areas. All state and local government offices have a five-year term. The state also elects 5 members to Lok Sabha and 3 seats to Rajya Sabha of the Parliament of India.[91] The judiciary consists of the Uttarakhand High Court, located at Nainital, and a system of lower courts. The incumbent Acting Chief Justice of Uttarakhand is Sanjaya Kumar Mishra.[92]\\n\",\n",
       " 'Politics in Uttarakhand is dominated by the Indian National Congress (INC) and the Bharatiya Janata Party (BJP). Despite the prominence of the regional political party Uttarakhand Kranti Dal pre-statehood, since the formation of the state only the BJP and the INC have ruled the state. Following the hung mandate in the 2012 Uttarakhand Legislative Assembly election, the Indian National Congress, having the maximum number of seats, formed a coalition government headed by Harish Rawat that collapsed on 27 March 2016, following the political turmoil as about nine MLAs of the INC rebelled against the party and supported the opposition party BJP, causing Harish Rawat government to lose the majority in assembly.\\n',\n",
       " \"However, on 21 April 2016 the High Court of Uttarakhand quashed the President's rule questioning its legality and maintained a status quo prior to 27 March 2016 when 9 rebel MLAs of the INC voted against the Harish Rawat government in assembly on state's money appropriation bill. On 22 April 2016 the Supreme Court of India stayed the order of High Court till 27 April 2016, thereby once again reviving the President's rule. In later developments regarding this matter, the Supreme Court ordered a floor test to be held on 10 May with the rebels being barred from voting. On 11 May at the opening of sealed result of the floor test, under the supervision of Supreme Court, the Harish Rawat government was revived following the victory in floor test held in Uttarakhand Legislative Assembly.[citation needed]\\n\",\n",
       " 'There are 13 districts in Uttarakhand, which are grouped into two divisions, Kumaon and Garhwal. Each division is administered by a divisional commissioner. Four new districts named Didihat, Kotdwar, Ranikhet, and Yamunotri were declared by then Chief Minister of Uttarakhand, Ramesh Pokhriyal, on 15 August 2011 but yet to be officially formed.[93]\\n',\n",
       " 'Each district is administered by a district magistrate. The districts are further divided into sub-divisions, which are administered by sub-divisional magistrates; sub-divisions comprise tehsils which are administered by a tehsildar and community development blocks, each administered by a block development officer.[citation needed]\\n',\n",
       " 'Urban areas are categorised into three types of municipalities based on their population; municipal corporations, each administered by a municipal commissioner, municipal councils and, nagar panchayats (town councils), each of them administered by a chief executive officer. Rural areas comprise the three tier administration; district councils, block panchayats (block councils) and gram panchayats (village councils).[citation needed]\\n',\n",
       " 'According to the 2011 census, Haridwar, Dehradun, and Udham Singh Nagar are the most populous districts, each of them having a population of over one million.[73]\\n',\n",
       " 'Among the prominent local crafts is wood carving known as Likhai, which appears most frequently in the ornately decorated temples of the Kumaon region in Uttarakhand. Intricately carved designs of floral patterns, deities, and geometrical motifs also decorate the doors, windows, ceilings, and walls of village houses. Paintings and murals are used to decorate both houses and temples. \\n',\n",
       " 'File:Abhisarika-nayika-mola-ram.jpg|Abhisarika Nayika, a painting by Mola Ram\\n',\n",
       " 'Garwhali Miniature painting is a form of miniature painting that flourished in the region between the 17th and 19th century. Mola Ram is credited as the true father of the Garhwali Branch of the wider Pahari School. Kumaoni art often is geometrical in nature, while Garhwali art is known for its closeness to nature.\\n',\n",
       " \"Aipan is a GI certified Kumaoni ritual folk art[94] done mainly during special ceremonies, the festival of Diwali, marriages and other religious rituals. It's predominantly female practitioners believe that it invokes a divine power which brings about good fortune and deters evil. The art is special as it is done on empty walls, which are brick-red in color, called Geru. The actual art is done with a white paste made of rice flour.[95]\\n\",\n",
       " 'Jyuti patta is a class of water color paintings done on  rituals, called Jyuti.\\xa0Some scholars also consider Jyuti to be synonymous with the word mother of the world.\\xa0To give concrete form to the deity, two-dimensional geometry is given expression in the form of frescoes.\\xa0This is a geometric or decorative semi-graphic structure in which different colors and symbols are used.\\xa0This structure called Jyuti also gets a new dimension by the use of ocher or biswar of Tepan.\\xa0Jyunti is prepared on the surface of wall or paper and the composition is given with cotton and a brush of limiter.\\xa0In this artform, various qualities of a specific deity are shown.[96]\\n',\n",
       " 'Other crafts of Uttarakhand include handcrafted gold jewellery, basketry from Garhwal, woollen shawls, scarves, and rugs. The latter are mainly produced by the Bhotiyas of northern Uttarakhand.[citation needed]\\n',\n",
       " \"Uttarakhand's diverse ethnicities have created a rich literary tradition in languages including Hindi, Garhwali, Kumaoni, Jaunsari, and Tharu. Many of its traditional tales originated in the form of lyrical ballads and chanted by itinerant singers and are now considered classics of Hindi literature. Abodh Bandhu Bahuguna, Badri Datt Pandey, Ganga Prasad Vimal; Mohan Upreti, Naima Khan Upreti, Prasoon Joshi, Shailesh Matiyani, Shekhar Joshi, Shivani, Taradutt Gairola, Tom Alter; Lalit Kala Akademi fellow – Ranbir Singh Bisht; Sangeet Natak Akademi Awardees – B. M. Shah, Narendra Singh Negi; Sahitya Akademi Awardees – Leeladhar Jagudi, Shivprasad Dabral Charan, Manglesh Dabral, Manohar Shyam Joshi, Ramesh Chandra Shah, Ruskin Bond and Viren Dangwal; Jnanpith Awardee and Sahitya Akademi fellow Sumitranandan Pant are some major literary, artistic and theatre personalities from the state. prominent philosophers, Indian independence activists and social-environmental activists; Anil Prakash Joshi, Basanti Devi, Gaura Devi, Govind Ballabh Pant, Chandi Prasad Bhatt, Deep Joshi, Hargovind Pant, Kalu Singh Mahara, Kunwar Singh Negi, Mukandi Lal, Nagendra Saklani, Sri Dev Suman, Ram Prasad Nautiyal, Sunderlal Bahuguna and Vandana Shiva are also from Uttarakhand.[citation needed]\\n\",\n",
       " 'The primary food of Uttarakhand is vegetables with wheat being a staple, although non-vegetarian food is also served. A distinctive characteristic of Uttarakhand cuisine is the sparing use of tomatoes, milk, and milk-based products. \\n',\n",
       " 'Coarse grain with high fibre content is very common in Uttarakhand due to the harsh terrain. Crops most commonly associated with Uttarakhand are Buckwheat (locally called Kotu or Kuttu) and the regional crops, Maduwa and Jhangora, particularly in the interior regions of Kumaon and Garhwal. Generally, either Desi Ghee or Mustard oil is used for the purpose of cooking food. Simple recipes are made interesting with the use of hash seeds Jakhya as spice, chutney made of Bhang is also a regional cuisine. \\n',\n",
       " 'Bal Mithai is a popular fudge-like sweet. Other popular dishes include Dubuk, Chains, Kap, Bhatiya, Jaula, Phana, Paliyo, Chutkani and Sei. In sweets; Swal, Ghughut/Khajur, Arsa, Mishri, Gatta and Gulgulas are popular.\\n',\n",
       " 'Many regional variations of Kadhi called Jhoi or Jholi is also popular.[97] Another staple of the Kumaon region is a black soybean dal referred to as Bhatt or chudkani. A grinded dal chaisu is also popular in the Garhwal region.\\n',\n",
       " 'The state has a predominant non-vegetarian population, with some estimates suggesting 75% of the population being non-vegetarian. Various boar, chicken, mutton and hare recipes are popular in the region. A popular mutton dish bhutwa, is made from goat intestine and other offcuts.\\n',\n",
       " 'The dances of the region are connected to life and human existence and exhibit myriad human emotions. Langvir Nritya is a dance form for males that resembles gymnastic movements. Barada Nati folk dance is another dance of Jaunsar-Bawar, which is practised during some religious festivals. Other well-known dances include Hurka Baul, Jhora-Chanchri, Chhapeli, Thadya, Jhumaila, Pandav, Chauphula, and Chholiya.[98][99]\\n',\n",
       " 'Music is an integral part of the Uttarakhandi culture. Popular types of folk songs include Mangal, Basanti, Khuder and Chhopati.[100] These folk songs are played on instruments including Dhol, Damau, Turri, Ransingha, Dholki, Daur, Thali, Bhankora, Mandan and Mashakbaja. \"Bedu Pako Baro Masa\" is a popular folk song of Uttarakhand with international fame and legendary status within the state. It serves as the cultural anthem of Uttarakhandi people worldwide.[101][102]\\n',\n",
       " 'Music is also used as a medium through which the gods are invoked. Jagar is a form of spirit worship in which the singer, or Jagariya, sings a ballad of the gods, the ballads envoke local deities with allusions to great epics, like Mahabharat and Ramayana, that describe the adventures and exploits of the god being invoked.\\n',\n",
       " \"B. K. Samant, Basanti Bisht, Chander Singh Rahi, Girish Tiwari 'Girda', Gopal Babu Goswami, Heera Singh Rana, Jeet Singh Negi, Meena Rana, Mohan Upreti, Narendra Singh Negi and Pritam Bhartwan are popular folk singers and musicians from the state, so are Bollywood singer Jubin Nautiyal and country singer Bobby Cash.[103]\\n\",\n",
       " 'One of the major Hindu pilgrimages, Haridwar Kumbh Mela, takes place in Uttarakhand. Haridwar is one of the four places in India where this mela is organised. Haridwar most recently hosted the Purna Kumbh Mela from Makar Sankranti (14 January 2010) to Vaishakh Purnima Snan (28 April 2010). Hundreds of foreigners joined Indian pilgrims in the festival, which is considered the largest religious gathering in the world.[104]\\n',\n",
       " 'Kumauni Holi, in forms including Baithki Holi, Khari Holi, and Mahila Holi, all of which start from Vasant Panchami, are festivals and musical affairs that can last almost a month. Ganga Dashahara, Vasant Panchami, Makar Sankranti, Ghee Sankranti, Khatarua, Vat Savitri, and Phul Dei (The festival of spring) are other major festivals. In addition, various fairs like Kanwar Yatra, Kandali Festival, Ramman, Kauthig, Nauchandi Mela, Giddi Mela, Uttarayani Mela and Nanda Devi Raj Jat take place.[citation needed]\\n',\n",
       " 'Harela is a kumaoni festival hypothesized to date back to the indigenous population. 10-11 days before the Sankranti of Shravan, a bed is made by adding soil in bamboo pots etc. Grains grown during the rainy season like paddy, maize, urad etc. are sown, this is called Hariyala. Harakali Mahotsav, Idols of Gauri Maheshwar, Ganesha and Karkitkeya are made from clay, colored in them and worshiped with various fruits, flowers, dishes and sweets in a bed of greenery on the night of the month of Sanat. On the second day, the Harela of Uttarang Puja is placed on the head. Sisters and daughters-in-law apply tilak and tilak and put Harela on their heads. They are given gifts.[105]\\n',\n",
       " 'The festivals of Kumbh Mela at idwar, Ramlila, Ramman of Garhwal, the traditions of Vedic chantings and Yoga are included in the list of Intangible cultural heritage of the UNESCO.[106][107][108][109][110]\\n',\n",
       " 'The Uttarakhand state is the second fastest growing state in India.[111] Its gross state domestic product (GSDP) (at constant prices) more than doubled from ₹24,786 crore in FY2005 to ₹60,898 crore in FY2012. The real GSDP grew at 13.7% (CAGR) during the FY2005–FY2012 period. The contribution of the service sector to the GSDP of Uttarakhand was just over 50% during FY 2012. Per capita income in Uttarakhand is ₹ 198738 (FY 2018–19), which is higher than the national average of ₹ 126406 (FY 2018–19).[112][113] According to the Reserve Bank of India, the total foreign direct investment in the state from April 2000 to October 2009 amounted to US$46.7\\xa0million.[114]\\n',\n",
       " 'Like most of India, agriculture is one of the most significant sectors of the economy of Uttarakhand. Basmati rice, wheat, soybeans, groundnuts, coarse cereals, pulses, and oil seeds are the most widely grown crops. Fruits like apples, oranges, pears, peaches, lychees, and plums are widely grown and important to the large food processing industry. Agricultural export zones have been set up in the state for lychees, horticulture, herbs, medicinal plants, and basmati rice. During 2010, wheat production was 831 thousand tonnes and rice production was 610 thousand tonnes, while the main cash crop of the state, sugarcane, had a production of 5058 thousand tonnes. As 86% of the state consists of hills, the yield per hectare is not very high. 86% of all croplands are in the plains while the remaining is from the hills.[115] The state also holds the GI tag for Tejpatta (Cinnamomum tamala) or Indian bay leaf, which is known to add flavour to dishes and also possesses several medicinal properties.[116]\\n',\n",
       " 'figures in crores of Indian rupees\\n',\n",
       " 'Other key industries include tourism and hydropower, and there is prospective development in IT, ITES, biotechnology, pharmaceuticals and automobile industries. The service sector of Uttarakhand mainly includes tourism, information technology, higher education, and banking.[115]\\n',\n",
       " 'During 2005–2006, the state successfully developed three Integrated Industrial Estates (IIEs) at Haridwar, Pantnagar, and Sitarganj; Pharma City at Selakui; Information Technology Park at Sahastradhara (Dehradun); and a growth centre at Sigaddi (Kotdwar). Also in 2006, 20 industrial sectors in public private partnership mode were developed in the state.[118]\\n',\n",
       " 'Uttarakhand has 2,683\\xa0km (1,667\\xa0mi) of roads, of which 1,328\\xa0km (825\\xa0mi) are national highways and 1,543\\xa0km (959\\xa0mi) are state highways.[118] The State Road Transport Corporation (SRTC), which has been reorganised in Uttarakhand as the Uttarakhand Transport Corporation (UTC), is a major constituent of the transport system in the state. The corporation began to work on 31 October 2003 and provides services on interstate and nationalised routes. As of 2012, approximately 1000 buses are being plied by the UTC on 35 nationalised routes along with many other non-nationalised routes. There are also private transport operators operating approximately 3000 buses on non-nationalised routes along with a few interstate routes in Uttarakhand and the neighbouring state of U.P.[119] For travelling locally, the state, like most of the country, has auto rickshaws and cycle rickshaws. In addition, remote towns and villages in the hills are connected to important road junctions and bus routes by a vast network of crowded share jeeps.[citation needed]\\n',\n",
       " 'The air transport network in the state is gradually improving. Jolly Grant Airport in Dehradun, is the busiest airport in the state with six daily flights to Delhi Airport. Pantnagar Airport, located in Pantnagar of the Kumaon region have 1 daily air service to Delhi and return too. The government is planning to develop Naini Saini Airport in Pithoragarh,[120] Bharkot Airport in Chinyalisaur in Uttarkashi district and Gauchar Airport in Gauchar, Chamoli district. There are plans to launch helipad service in Pantnagar and Jolly Grant Airports and other important tourist destinations like Ghangaria and Hemkund Sahib.[121]\\n',\n",
       " \"As over 86% of Uttarakhand's terrain consists of hills, railway services are very limited in the state and are largely confined to the plains. In 2011, the total length of railway tracks was about 345\\xa0km (214\\xa0mi).[118] Rail, being the cheapest mode of transport, is the most popular. The most important railway station in Kumaun Division of Uttarakhand is at Kathgodam, 35 kilometres away from Nainital. Kathgodam is the last terminus of the broad gauge line of North East Railways that connects Nainital with Delhi, Dehradun, and Howrah. Other notable railway stations are at Pantnagar, Lalkuan and Haldwani.[citation needed]\\n\",\n",
       " 'Dehradun railway station is a railhead of the Northern Railways.[122] Haridwar station is situated on the Delhi–Dehradun and Howrah–Dehradun railway lines. One of the main railheads of the Northern Railways, Haridwar Junction Railway Station is connected by broad gauge line. Roorkee comes under Northern Railway region of Indian Railways on the main Punjab – Mughal Sarai trunk route and is connected to major Indian cities. Other railheads are Rishikesh, Kotdwar and Ramnagar linked to Delhi by daily trains.[citation needed]\\n',\n",
       " 'Uttarakhand has many tourist spots due to its location in the Himalayas. There are many ancient temples, forest reserves, national parks, hill stations, and mountain peaks that draw large number of tourists. There are 44 nationally protected monuments in the state.[123] Oak Grove School in the state is on the tentative list for World Heritage Sites.[124] Two of the most holy rivers in Hinduism the Ganges and Yamuna, originate in Uttarakhand. Binsar Devta is a popular Hindu temple in the area.[citation needed]\\n',\n",
       " 'Uttarakhand has long been called \"Land of the Gods\"[53] as the state has some of the holiest Hindu shrines, and for more than a thousand years, pilgrims have been visiting the region in the hopes of salvation and purification from sin. Gangotri and Yamunotri, the sources of the Ganges and Yamuna, dedicated to Ganga and Yamuna respectively, fall in the upper reaches of the state and together with Badrinath (dedicated to Vishnu) and Kedarnath (dedicated to Shiva) form the Chota Char Dham, one of Hinduism\\'s most spiritual and auspicious pilgrimage circuits. Haridwar, meaning \"Gateway to the God\", is a prime Hindu destination. Haridwar hosts the Haridwar Kumbh Mela every twelve years, in which millions of pilgrims take part from all parts of India and the world. Rishikesh near Haridwar is known as the preeminent yoga centre of India. The state has an abundance of temples and shrines, many dedicated to local deities or manifestations of Shiva and Durga, references to many of which can be found in Hindu scriptures and legends.[125] Uttarakhand is, however, a place of pilgrimage for the adherents of other religions too. Piran Kaliyar Sharif near Roorkee is a pilgrimage site to Muslims, Gurudwara Darbar Sahib, in Dehradun, Gurudwara Hemkund Sahib in Chamoli district, Gurudwara Nanakmatta Sahib in Nanakmatta and Gurudwara Reetha Sahib in Champawat district are pilgrimage centres for Sikhs. Tibetan Buddhism has also made its presence with the reconstruction of Mindrolling Monastery and its Buddha Stupa, described as the world\\'s highest at Clement Town, Dehradun.[126][127]\\n',\n",
       " 'Auli and Munsiari are well-known skiing resorts in the state.[citation needed]\\n',\n",
       " '\\nThe state has 12 national parks and wildlife sanctuaries, which cover 13.8 per cent of the total area of the state.[128] They are located at different altitudes varying from 800 to 5400 metres. The oldest national park on the Indian sub-continent, Jim Corbett National Park, is a major tourist attraction.[63]',\n",
       " 'Vasudhara Falls, near Badrinath is a waterfall with a height of 122 metres (400\\xa0ft) set in a backdrop of snow-clad mountains.[129] The state has always been a destination for mountaineering, hiking, and rock climbing in India. A recent development in adventure tourism in the region has been whitewater rafting in Rishikesh. Due to its proximity to the Himalaya ranges, the place is full of hills and mountains and is suitable for trekking, climbing, skiing, camping, rock climbing, and paragliding.[130] Roopkund is a trekking site, known for the mysterious skeletons found in a lake, which was featured by National Geographic Channel in a documentary.[131] The trek to Roopkund passes through the meadows of Bugyal.[citation needed]\\n',\n",
       " 'New Tehri city has Tehri Dam, with a height of 260.5 metres (855\\xa0ft) is the tallest dam in India. It is currently ranked No 10 on the List of Tallest Dams in the world. Tehri Lake with a surface area of 52\\xa0km2 (20\\xa0sq\\xa0mi), is the biggest lake in the state of Uttarakhand. It has good options for Adventure Sports and various water sports like Boating, Banana Boat, Bandwagon Boat, Jet Ski, Water Skiing, Para-sailing, Kayaking.[citation needed]\\n',\n",
       " 'As of 30\\xa0September\\xa02010[update], there were 15,331 primary schools with 1,040,139 students and 22,118 working teachers in Uttarakhand.[132][133][134] At the 2011 census the literacy rate of the state was 78.82% with 87.4% literacy for males and 70% literacy for females.[10] Dehradun, Uttarakhand has multiple multinational companies like Tanicsys . 1\\n',\n",
       " 'The language of instruction in the schools is either English or Hindi. There are mainly government-run, private unaided (no government help), and private aided schools in the state. The main school affiliations are CBSE, CISCE or UBSE, the state syllabus defined by the Department of Education of the Government of Uttarakhand.[citation needed] Furthermore, there is an IIT in Roorkee, AIIMS in Rishikesh and an IIM in Kashipur.[citation needed]\\n',\n",
       " 'The high mountains and rivers of Uttarakhand attract many tourists and adventure seekers. It is also a favourite destination for adventure sports, such as paragliding, sky diving, rafting and bungee jumping.[135]\\n',\n",
       " 'More recently, golf has also become popular with Ranikhet being a favourite destination.[citation needed]\\n',\n",
       " 'The Cricket Association of Uttarakhand is the governing body for cricket activities. The Uttarakhand cricket team represents Uttarakhand in Ranji Trophy, Vijay Hazare Trophy and Syed Mushtaq Ali Trophy. Rajiv Gandhi International Cricket Stadium in Dehradun is the home ground of Uttarakhand cricket team.[citation needed]\\n',\n",
       " 'The Uttarakhand State Football Association is the governing body for association football. The Uttarakhand football team represents Uttarakhand in the Santosh Trophy and other leagues. The Indira Gandhi International Sports Stadium in Haldwani is the home ground of Uttarakhand football team.[citation needed]\\n',\n",
       " 'Government\\n',\n",
       " 'General information\\n']"
      ]
     },
     "execution_count": 3,
     "metadata": {},
     "output_type": "execute_result"
    }
   ],
   "source": [
    "text_data"
   ]
  },
  {
   "cell_type": "markdown",
   "id": "295ea4ff",
   "metadata": {},
   "source": [
    "#NOW WE WILL CLEAN THE TEXT EXTRACTED FROM THE WEBSITE:"
   ]
  },
  {
   "cell_type": "code",
   "execution_count": 12,
   "id": "371b9cd1",
   "metadata": {},
   "outputs": [],
   "source": [
    "#nltk would be used for this task\n",
    "\n",
    "import re\n",
    "from nltk.corpus import stopwords\n",
    "from nltk.tokenize import word_tokenize\n",
    "from nltk.stem import PorterStemmer\n",
    "\n",
    "# Concatenate the list of strings into a single text block\n",
    "text_data_concatenated = \" \".join(text_data)\n",
    "\n",
    "# Remove HTML tags\n",
    "clean_text = re.sub(\"<.*?>\", \"\", text_data_concatenated)\n",
    "\n",
    "# Remove special characters\n",
    "clean_text = re.sub(r\"[^\\w\\s]\", \"\", clean_text)\n",
    "\n",
    "# Tokenization\n",
    "tokens = word_tokenize(clean_text)\n",
    "\n",
    "# Lowercasing\n",
    "tokens = [token.lower() for token in tokens]\n",
    "\n",
    "# Remove stop words\n",
    "stop_words = set(stopwords.words(\"english\"))\n",
    "tokens = [token for token in tokens if token not in stop_words]\n",
    "\n",
    "# Stemming\n",
    "stemmer = PorterStemmer()\n",
    "tokens = [stemmer.stem(token) for token in tokens]\n",
    "\n",
    "# Join tokens back into a string\n",
    "clean_text = \" \".join(tokens)\n",
    "\n",
    "#print(clean_text)"
   ]
  },
  {
   "cell_type": "code",
   "execution_count": 6,
   "id": "1b568aef",
   "metadata": {},
   "outputs": [],
   "source": [
    "from transformers import AutoTokenizer, AutoModelForQuestionAnswering"
   ]
  },
  {
   "cell_type": "code",
   "execution_count": 7,
   "id": "73f4fb00",
   "metadata": {},
   "outputs": [
    {
     "data": {
      "application/vnd.jupyter.widget-view+json": {
       "model_id": "15c9d033a6094b948714d2ead035ab08",
       "version_major": 2,
       "version_minor": 0
      },
      "text/plain": [
       "Downloading tokenizer_config.json:   0%|          | 0.00/79.0 [00:00<?, ?B/s]"
      ]
     },
     "metadata": {},
     "output_type": "display_data"
    },
    {
     "name": "stderr",
     "output_type": "stream",
     "text": [
      "C:\\Users\\rawat\\anaconda3\\lib\\site-packages\\huggingface_hub\\file_download.py:133: UserWarning: `huggingface_hub` cache-system uses symlinks by default to efficiently store duplicated files but your machine does not support them in C:\\Users\\rawat\\.cache\\huggingface\\hub. Caching files will still work but in a degraded version that might require more space on your disk. This warning can be disabled by setting the `HF_HUB_DISABLE_SYMLINKS_WARNING` environment variable. For more details, see https://huggingface.co/docs/huggingface_hub/how-to-cache#limitations.\n",
      "To support symlinks on Windows, you either need to activate Developer Mode or to run Python as an administrator. In order to see activate developer mode, see this article: https://docs.microsoft.com/en-us/windows/apps/get-started/enable-your-device-for-development\n",
      "  warnings.warn(message)\n"
     ]
    },
    {
     "data": {
      "application/vnd.jupyter.widget-view+json": {
       "model_id": "fb0020624cc04c41942e8da13e726c42",
       "version_major": 2,
       "version_minor": 0
      },
      "text/plain": [
       "Downloading config.json:   0%|          | 0.00/571 [00:00<?, ?B/s]"
      ]
     },
     "metadata": {},
     "output_type": "display_data"
    },
    {
     "data": {
      "application/vnd.jupyter.widget-view+json": {
       "model_id": "e52d28e4776a48cdb655e5614a1e965a",
       "version_major": 2,
       "version_minor": 0
      },
      "text/plain": [
       "Downloading vocab.json:   0%|          | 0.00/899k [00:00<?, ?B/s]"
      ]
     },
     "metadata": {},
     "output_type": "display_data"
    },
    {
     "data": {
      "application/vnd.jupyter.widget-view+json": {
       "model_id": "80ad2351ad76430b934ec274b6b054dc",
       "version_major": 2,
       "version_minor": 0
      },
      "text/plain": [
       "Downloading merges.txt:   0%|          | 0.00/456k [00:00<?, ?B/s]"
      ]
     },
     "metadata": {},
     "output_type": "display_data"
    },
    {
     "data": {
      "application/vnd.jupyter.widget-view+json": {
       "model_id": "208e862114814090bc83046646186eaf",
       "version_major": 2,
       "version_minor": 0
      },
      "text/plain": [
       "Downloading (…)cial_tokens_map.json:   0%|          | 0.00/772 [00:00<?, ?B/s]"
      ]
     },
     "metadata": {},
     "output_type": "display_data"
    },
    {
     "data": {
      "application/vnd.jupyter.widget-view+json": {
       "model_id": "034921c9481a4992b548971926bac36c",
       "version_major": 2,
       "version_minor": 0
      },
      "text/plain": [
       "Downloading pytorch_model.bin:   0%|          | 0.00/496M [00:00<?, ?B/s]"
      ]
     },
     "metadata": {},
     "output_type": "display_data"
    }
   ],
   "source": [
    "# Load the RoBERTa tokenizer and model for question answering\n",
    "tokenizer = AutoTokenizer.from_pretrained(\"deepset/roberta-base-squad2\")\n",
    "model = AutoModelForQuestionAnswering.from_pretrained(\"deepset/roberta-base-squad2\")"
   ]
  },
  {
   "cell_type": "markdown",
   "id": "c72e4a64",
   "metadata": {},
   "source": [
    "# NOW WE WILL TAKE A SAMLPE RUN OF OUR MODEL"
   ]
  },
  {
   "cell_type": "code",
   "execution_count": 8,
   "id": "9446b108",
   "metadata": {},
   "outputs": [
    {
     "name": "stdout",
     "output_type": "stream",
     "text": [
      "WARNING:tensorflow:From C:\\Users\\rawat\\anaconda3\\lib\\site-packages\\keras\\src\\losses.py:2976: The name tf.losses.sparse_softmax_cross_entropy is deprecated. Please use tf.compat.v1.losses.sparse_softmax_cross_entropy instead.\n",
      "\n",
      "Question: How many districts are there in Uttarakhand?\n",
      "Answer: 13\n",
      "\n",
      "Question: What is the winter capital of Uttarakhand?\n",
      "Answer: dehradun\n",
      "\n",
      "Question: When was Uttarakhand declared as the 27th state of India?\n",
      "Answer: 2000 thu 9 novemb 2000\n",
      "\n"
     ]
    }
   ],
   "source": [
    "from transformers import pipeline\n",
    "\n",
    "# Load the question-answering pipeline\n",
    "qa_pipeline = pipeline(\"question-answering\", model=model, tokenizer=tokenizer)\n",
    "\n",
    "questions = [\n",
    "    \"How many districts are there in Uttarakhand?\",\n",
    "    \"What is the winter capital of Uttarakhand?\",\n",
    "    \"When was Uttarakhand declared as the 27th state of India?\"\n",
    "]\n",
    "\n",
    "# Define the context\n",
    "context = clean_text\n",
    "\n",
    "# Loop over each question and get the answer\n",
    "for question in questions:\n",
    "    # Use the QA pipeline to get the answer\n",
    "    answer = qa_pipeline(question=question, context=context)\n",
    "\n",
    "    print(\"Question:\", question)\n",
    "    print(\"Answer:\", answer['answer'])\n",
    "    print()  # Adds a newline for better readability"
   ]
  },
  {
   "cell_type": "markdown",
   "id": "1c117372",
   "metadata": {},
   "source": [
    "So we can see, model is clearly working well. Little bit less precision is due to data preprocessing step, otherwise its all fine."
   ]
  },
  {
   "cell_type": "markdown",
   "id": "5ce6d9e4",
   "metadata": {},
   "source": [
    "# Now we will work on out voice to text model"
   ]
  },
  {
   "cell_type": "code",
   "execution_count": 9,
   "id": "de96e95d",
   "metadata": {},
   "outputs": [
    {
     "name": "stdout",
     "output_type": "stream",
     "text": [
      "Listening...\n",
      "Recognizing...\n",
      "You said: hello my name is Piyush\n"
     ]
    }
   ],
   "source": [
    "import speech_recognition as sr\n",
    "\n",
    "# Initialize the recognizer\n",
    "recognizer = sr.Recognizer()\n",
    "\n",
    "# Use the default microphone as the audio source\n",
    "with sr.Microphone() as source:\n",
    "    print(\"Listening...\")\n",
    "\n",
    "    # Adjust for ambient noise\n",
    "    recognizer.adjust_for_ambient_noise(source)\n",
    "\n",
    "    # Capture audio input\n",
    "    audio = recognizer.listen(source)\n",
    "\n",
    "    print(\"Recognizing...\")\n",
    "\n",
    "    try:\n",
    "        # Recognize speech using Google Speech Recognition\n",
    "        text = recognizer.recognize_google(audio)\n",
    "\n",
    "        print(\"You said:\", text)\n",
    "    except sr.UnknownValueError:\n",
    "        print(\"Sorry, I could not understand the audio.\")\n",
    "    except sr.RequestError as e:\n",
    "        print(\"Could not request results from Google Speech Recognition service; {0}\".format(e))"
   ]
  },
  {
   "cell_type": "markdown",
   "id": "776e4f6c",
   "metadata": {},
   "source": [
    "# SO TILL NOW I SHOWED HOW BOTH WORKS SEPERATELY. NOW WE WILL COMBINE BOTH AND SEE HOW IT WORKS OUT."
   ]
  },
  {
   "cell_type": "code",
   "execution_count": 11,
   "id": "2f84295a",
   "metadata": {},
   "outputs": [
    {
     "name": "stdout",
     "output_type": "stream",
     "text": [
      "Listening...\n",
      "Recognizing...\n",
      "You asked: what is the gender ratio in Uttarakhand\n",
      "Answer: 963 femal per 1000 males\n"
     ]
    }
   ],
   "source": [
    "#most of the task is done above, we to now just do few modifications for things to work out\n",
    "\n",
    "with sr.Microphone() as source:\n",
    "    print(\"Listening...\")\n",
    "\n",
    "    # Adjust for ambient noise\n",
    "    recognizer.adjust_for_ambient_noise(source)\n",
    "\n",
    "    # Capture audio input\n",
    "    audio = recognizer.listen(source)\n",
    "\n",
    "    print(\"Recognizing...\")\n",
    "\n",
    "    try:\n",
    "        # Recognize speech using Google Speech Recognition\n",
    "        question = recognizer.recognize_google(audio)\n",
    "\n",
    "        answer = qa_pipeline(question=question, context=context)\n",
    "\n",
    "        print(\"You asked:\", question)\n",
    "        print(\"Answer:\", answer['answer'])\n",
    "    except sr.UnknownValueError:\n",
    "        print(\"Sorry, I could not understand the audio.\")\n",
    "    except sr.RequestError as e:\n",
    "        print(\"Could not request results from Google Speech Recognition service; {0}\".format(e))"
   ]
  },
  {
   "cell_type": "markdown",
   "id": "0c85358b",
   "metadata": {},
   "source": [
    "SO, I JUST USED A SAMPLE TEXT FROM THE WEBSITE TO ILLUSTRATE HOW IT WOULD EXACTLY WORK. WE CAN USE THE MODEL WITH OTHER TEXTS ALSO.\n",
    "THE MODEL UNDERSTANDS THE CONTEXT AND ANSWERS THE QUESTIONS, AS PER THE VOICE COMMANDS OF USER."
   ]
  },
  {
   "cell_type": "code",
   "execution_count": null,
   "id": "97137784",
   "metadata": {},
   "outputs": [],
   "source": []
  }
 ],
 "metadata": {
  "kernelspec": {
   "display_name": "Python 3 (ipykernel)",
   "language": "python",
   "name": "python3"
  },
  "language_info": {
   "codemirror_mode": {
    "name": "ipython",
    "version": 3
   },
   "file_extension": ".py",
   "mimetype": "text/x-python",
   "name": "python",
   "nbconvert_exporter": "python",
   "pygments_lexer": "ipython3",
   "version": "3.9.7"
  }
 },
 "nbformat": 4,
 "nbformat_minor": 5
}
